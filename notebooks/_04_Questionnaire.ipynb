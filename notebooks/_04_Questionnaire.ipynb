{
 "cells": [
  {
   "attachments": {},
   "cell_type": "markdown",
   "metadata": {},
   "source": [
    "# Questionnaire Parsing\n",
    "This notebook shows how to get questionnaire data from Labfront and obtaining a more readable DataFrame, that can be exported to csv or directly analyzed in Python."
   ]
  },
  {
   "cell_type": "code",
   "execution_count": 1,
   "metadata": {},
   "outputs": [],
   "source": [
    "import os\n",
    "import pylabfront.loader\n",
    "from pathlib import Path"
   ]
  },
  {
   "cell_type": "code",
   "execution_count": 2,
   "metadata": {},
   "outputs": [],
   "source": [
    "data_path = Path('..') / 'data' / 'pmi-mini_pilot' / '4de37ee3-7baf-4592-a431-a6d01fff6bd1'\n",
    "labfront_loader = pylabfront.loader.LabfrontLoader(data_path)"
   ]
  },
  {
   "cell_type": "code",
   "execution_count": 3,
   "metadata": {},
   "outputs": [
    {
     "data": {
      "text/plain": [
       "['Evening-questionnair_bc399112-c501-4f68-adc8-96217f177cb5',\n",
       " 'Morning-questionnair_70480cf1-ee9f-413d-9ac8-dd73a10e46e6',\n",
       " 'Onboarding-questionn_f4e439ff-8ce6-4644-b1e8-2ebda903ad56',\n",
       " 'Shirom-Melamed-Burno_207d03ea-ecdd-4783-b9f6-15331856abb5']"
      ]
     },
     "execution_count": 3,
     "metadata": {},
     "output_type": "execute_result"
    }
   ],
   "source": [
    "labfront_loader.get_available_questionnaires()"
   ]
  },
  {
   "cell_type": "code",
   "execution_count": 4,
   "metadata": {},
   "outputs": [
    {
     "ename": "KeyError",
     "evalue": "'final questionnaire'",
     "output_type": "error",
     "traceback": [
      "\u001b[1;31m---------------------------------------------------------------------------\u001b[0m",
      "\u001b[1;31mKeyError\u001b[0m                                  Traceback (most recent call last)",
      "Cell \u001b[1;32mIn[4], line 1\u001b[0m\n\u001b[1;32m----> 1\u001b[0m questionnaire_df \u001b[39m=\u001b[39m labfront_loader\u001b[39m.\u001b[39;49mprocess_questionnaire(\u001b[39m'\u001b[39;49m\u001b[39mfinal questionnaire\u001b[39;49m\u001b[39m'\u001b[39;49m)\n",
      "File \u001b[1;32mc:\\users\\davide.marzorati\\desktop\\dev\\python\\git\\pylabfront\\pylabfront\\loader.py:713\u001b[0m, in \u001b[0;36mLabfrontLoader.process_questionnaire\u001b[1;34m(self, questionnaire)\u001b[0m\n\u001b[0;32m    711\u001b[0m \u001b[39mdef\u001b[39;00m \u001b[39mprocess_questionnaire\u001b[39m(\u001b[39mself\u001b[39m, questionnaire):\n\u001b[0;32m    712\u001b[0m     questionnaire_df \u001b[39m=\u001b[39m pd\u001b[39m.\u001b[39mDataFrame()\n\u001b[1;32m--> 713\u001b[0m     questionnaire_questions \u001b[39m=\u001b[39m \u001b[39mself\u001b[39;49m\u001b[39m.\u001b[39;49mget_questionnaire_questions(questionnaire)\n\u001b[0;32m    714\u001b[0m     questions \u001b[39m=\u001b[39m [\n\u001b[0;32m    715\u001b[0m         questionnaire_questions[k][\u001b[39m\"\u001b[39m\u001b[39mdescription\u001b[39m\u001b[39m\"\u001b[39m]\n\u001b[0;32m    716\u001b[0m         \u001b[39mfor\u001b[39;00m k \u001b[39min\u001b[39;00m questionnaire_questions\u001b[39m.\u001b[39mkeys()\n\u001b[0;32m    717\u001b[0m     ]\n\u001b[0;32m    719\u001b[0m     \u001b[39mfor\u001b[39;00m participant \u001b[39min\u001b[39;00m \u001b[39mself\u001b[39m\u001b[39m.\u001b[39mids:\n",
      "File \u001b[1;32mc:\\users\\davide.marzorati\\desktop\\dev\\python\\git\\pylabfront\\pylabfront\\loader.py:637\u001b[0m, in \u001b[0;36mLabfrontLoader.get_questionnaire_questions\u001b[1;34m(self, questionnaire_name)\u001b[0m\n\u001b[0;32m    635\u001b[0m \u001b[39mdef\u001b[39;00m \u001b[39mget_questionnaire_questions\u001b[39m(\u001b[39mself\u001b[39m, questionnaire_name):\n\u001b[0;32m    636\u001b[0m     no_user_id \u001b[39m=\u001b[39m \u001b[39mTrue\u001b[39;00m\n\u001b[1;32m--> 637\u001b[0m     full_task_id \u001b[39m=\u001b[39m \u001b[39mself\u001b[39;49m\u001b[39m.\u001b[39;49mget_task_full_id(questionnaire_name)\n\u001b[0;32m    638\u001b[0m     \u001b[39mfor\u001b[39;00m user_id \u001b[39min\u001b[39;00m \u001b[39mself\u001b[39m\u001b[39m.\u001b[39mdata_dictionary\u001b[39m.\u001b[39mkeys():\n\u001b[0;32m    639\u001b[0m         \u001b[39mif\u001b[39;00m _LABFRONT_QUESTIONNAIRE_STRING \u001b[39min\u001b[39;00m \u001b[39mself\u001b[39m\u001b[39m.\u001b[39mdata_dictionary[user_id]\u001b[39m.\u001b[39mkeys():\n",
      "File \u001b[1;32mc:\\users\\davide.marzorati\\desktop\\dev\\python\\git\\pylabfront\\pylabfront\\loader.py:851\u001b[0m, in \u001b[0;36mLabfrontLoader.get_task_full_id\u001b[1;34m(self, task_id)\u001b[0m\n\u001b[0;32m    842\u001b[0m \u001b[39mdef\u001b[39;00m \u001b[39mget_task_full_id\u001b[39m(\u001b[39mself\u001b[39m, task_id):\n\u001b[0;32m    843\u001b[0m \u001b[39m    \u001b[39m\u001b[39m\"\"\"Get full task ID.\u001b[39;00m\n\u001b[0;32m    844\u001b[0m \n\u001b[0;32m    845\u001b[0m \u001b[39m    Args:\u001b[39;00m\n\u001b[1;32m   (...)\u001b[0m\n\u001b[0;32m    849\u001b[0m \u001b[39m        str: Full task ID.\u001b[39;00m\n\u001b[0;32m    850\u001b[0m \u001b[39m    \"\"\"\u001b[39;00m\n\u001b[1;32m--> 851\u001b[0m     \u001b[39mreturn\u001b[39;00m \u001b[39mself\u001b[39;49m\u001b[39m.\u001b[39;49mtasks_dict[task_id\u001b[39m.\u001b[39;49mlower()]\n",
      "\u001b[1;31mKeyError\u001b[0m: 'final questionnaire'"
     ]
    }
   ],
   "source": [
    "questionnaire_df = labfront_loader.process_questionnaire('onboarding questionnaire')"
   ]
  },
  {
   "cell_type": "code",
   "execution_count": null,
   "metadata": {},
   "outputs": [
    {
     "data": {
      "text/html": [
       "<div>\n",
       "<style scoped>\n",
       "    .dataframe tbody tr th:only-of-type {\n",
       "        vertical-align: middle;\n",
       "    }\n",
       "\n",
       "    .dataframe tbody tr th {\n",
       "        vertical-align: top;\n",
       "    }\n",
       "\n",
       "    .dataframe thead th {\n",
       "        text-align: right;\n",
       "    }\n",
       "</style>\n",
       "<table border=\"1\" class=\"dataframe\">\n",
       "  <thead>\n",
       "    <tr style=\"text-align: right;\">\n",
       "      <th></th>\n",
       "      <th>timezone</th>\n",
       "      <th>unixTimestampInMs</th>\n",
       "      <th>isoDate</th>\n",
       "      <th>userId</th>\n",
       "      <th>1_1-What is your age?</th>\n",
       "      <th>1_2-What is your sex?</th>\n",
       "      <th>1_5-Do you currently smoke?</th>\n",
       "      <th>1_6-Do you regularly take any medication?</th>\n",
       "      <th>1_8-What is your current marital status?</th>\n",
       "      <th>1_9-What is your highest qualification?</th>\n",
       "      <th>...</th>\n",
       "      <th>2_3-Would you say about yourself that you are..</th>\n",
       "      <th>2_4-Considering the latest 30 days, do you think you had enough sleep?</th>\n",
       "      <th>3_1-How would you define your work level?</th>\n",
       "      <th>3_2-What is your current contract duration?</th>\n",
       "      <th>3_3-What is your current employment status?</th>\n",
       "      <th>3_4-What is the workplace you work in the most of your time?</th>\n",
       "      <th>3_5-How is your working schedule?</th>\n",
       "      <th>3_6-How easy is it for you to keep your personal life and work separate?</th>\n",
       "      <th>3_7-On a scale from 1 (not stressful) to 5 (extremely stressful), how stressful is noise at the workplace for you?</th>\n",
       "      <th>4_1-On a scale from 1 (not useful) to 5 (very useful), was the workshop that you attended useful?</th>\n",
       "    </tr>\n",
       "  </thead>\n",
       "  <tbody>\n",
       "    <tr>\n",
       "      <th>0</th>\n",
       "      <td>Europe/Zurich</td>\n",
       "      <td>1680821150428</td>\n",
       "      <td>2023-04-07 00:45:50.428</td>\n",
       "      <td>WRSD-PMI-15</td>\n",
       "      <td>31-40</td>\n",
       "      <td>Female</td>\n",
       "      <td>No, I have never smoked</td>\n",
       "      <td>No</td>\n",
       "      <td>Married/stable union</td>\n",
       "      <td>Bachelor's degree</td>\n",
       "      <td>...</td>\n",
       "      <td>A late night owl</td>\n",
       "      <td>No</td>\n",
       "      <td>Mid-level</td>\n",
       "      <td>Temporary</td>\n",
       "      <td>Full-time</td>\n",
       "      <td>Remote (home, co-working spaces, ... )</td>\n",
       "      <td>I work on a standard working schedule</td>\n",
       "      <td>Neither easy, nor difficult</td>\n",
       "      <td>3</td>\n",
       "      <td>5</td>\n",
       "    </tr>\n",
       "  </tbody>\n",
       "</table>\n",
       "<p>1 rows × 28 columns</p>\n",
       "</div>"
      ],
      "text/plain": [
       "        timezone  unixTimestampInMs                 isoDate       userId  \\\n",
       "0  Europe/Zurich      1680821150428 2023-04-07 00:45:50.428  WRSD-PMI-15   \n",
       "\n",
       "  1_1-What is your age? 1_2-What is your sex? 1_5-Do you currently smoke?  \\\n",
       "0                 31-40                Female     No, I have never smoked   \n",
       "\n",
       "  1_6-Do you regularly take any medication?  \\\n",
       "0                                        No   \n",
       "\n",
       "  1_8-What is your current marital status?  \\\n",
       "0                     Married/stable union   \n",
       "\n",
       "  1_9-What is your highest qualification?  ...  \\\n",
       "0                       Bachelor's degree  ...   \n",
       "\n",
       "  2_3-Would you say about yourself that you are..  \\\n",
       "0                                A late night owl   \n",
       "\n",
       "   2_4-Considering the latest 30 days, do you think you had enough sleep?  \\\n",
       "0                                                 No                        \n",
       "\n",
       "   3_1-How would you define your work level?  \\\n",
       "0                                  Mid-level   \n",
       "\n",
       "   3_2-What is your current contract duration?  \\\n",
       "0                                    Temporary   \n",
       "\n",
       "   3_3-What is your current employment status?  \\\n",
       "0                                    Full-time   \n",
       "\n",
       "  3_4-What is the workplace you work in the most of your time?  \\\n",
       "0             Remote (home, co-working spaces, ... )             \n",
       "\n",
       "       3_5-How is your working schedule?  \\\n",
       "0  I work on a standard working schedule   \n",
       "\n",
       "  3_6-How easy is it for you to keep your personal life and work separate?  \\\n",
       "0                        Neither easy, nor difficult                         \n",
       "\n",
       "  3_7-On a scale from 1 (not stressful) to 5 (extremely stressful), how stressful is noise at the workplace for you?  \\\n",
       "0                                                  3                                                                   \n",
       "\n",
       "  4_1-On a scale from 1 (not useful) to 5 (very useful), was the workshop that you attended useful?  \n",
       "0                                                  5                                                 \n",
       "\n",
       "[1 rows x 28 columns]"
      ]
     },
     "execution_count": 22,
     "metadata": {},
     "output_type": "execute_result"
    }
   ],
   "source": [
    "questionnaire_df"
   ]
  },
  {
   "cell_type": "code",
   "execution_count": null,
   "metadata": {},
   "outputs": [
    {
     "data": {
      "text/plain": [
       "<Axes: >"
      ]
     },
     "execution_count": 12,
     "metadata": {},
     "output_type": "execute_result"
    },
    {
     "data": {
      "image/png": "[encoded data removed]",
      "text/plain": [
       "<Figure size 640x480 with 1 Axes>"
      ]
     },
     "metadata": {},
     "output_type": "display_data"
    }
   ],
   "source": [
    "questionnaire_df['1_1-What is your age?'].hist()"
   ]
  }
 ],
 "metadata": {
  "kernelspec": {
   "display_name": "dev",
   "language": "python",
   "name": "python3"
  },
  "language_info": {
   "codemirror_mode": {
    "name": "ipython",
    "version": 3
   },
   "file_extension": ".py",
   "mimetype": "text/x-python",
   "name": "python",
   "nbconvert_exporter": "python",
   "pygments_lexer": "ipython3",
   "version": "3.9.13"
  },
  "orig_nbformat": 4
 },
 "nbformat": 4,
 "nbformat_minor": 2
}
