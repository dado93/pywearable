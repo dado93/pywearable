{
 "cells": [
  {
   "attachments": {},
   "cell_type": "markdown",
   "metadata": {},
   "source": [
    "# Respiration Analysis\n",
    "Please make sure to install `pylabfront` module in your virtual environment, before running this notebook.\n",
    "\n",
    "```\n",
    "cd pylabfront\n",
    "python setup.py\n",
    "```"
   ]
  },
  {
   "cell_type": "code",
   "execution_count": 1,
   "metadata": {},
   "outputs": [],
   "source": [
    "import datetime\n",
    "import matplotlib.pyplot as plt\n",
    "from pathlib import Path\n",
    "import pylabfront.loader\n",
    "import pylabfront.respiration"
   ]
  },
  {
   "attachments": {},
   "cell_type": "markdown",
   "metadata": {},
   "source": [
    "## Initialize Loader"
   ]
  },
  {
   "cell_type": "code",
   "execution_count": 2,
   "metadata": {},
   "outputs": [],
   "source": [
    "base_folder = Path('..') / 'sample_data'\n",
    "labfront_loader = pylabfront.loader.LabfrontLoader(base_folder)"
   ]
  },
  {
   "cell_type": "code",
   "execution_count": 10,
   "metadata": {},
   "outputs": [],
   "source": [
    "start_date = datetime.datetime(2023, 1, 1)\n",
    "end_date = datetime.datetime(2023, 4, 21)\n",
    "breaths_per_minute = pylabfront.respiration.get_breaths_per_minute(labfront_loader, user_id=\"all\", start_date=start_date, end_date=end_date)"
   ]
  },
  {
   "cell_type": "code",
   "execution_count": 11,
   "metadata": {},
   "outputs": [
    {
     "data": {
      "text/plain": [
       "{'sample-participant-01': {datetime.date(2023, 1, 3): 13.834739884393063,\n",
       "  datetime.date(2023, 1, 4): 14.124571428571429,\n",
       "  datetime.date(2023, 1, 31): 13.398581081081081,\n",
       "  datetime.date(2023, 2, 1): 13.925892857142857,\n",
       "  datetime.date(2023, 2, 3): 14.47125}}"
      ]
     },
     "execution_count": 11,
     "metadata": {},
     "output_type": "execute_result"
    }
   ],
   "source": [
    "breaths_per_minute"
   ]
  },
  {
   "cell_type": "code",
   "execution_count": 5,
   "metadata": {},
   "outputs": [
    {
     "data": {
      "text/plain": [
       "'sample-participant-01'"
      ]
     },
     "execution_count": 5,
     "metadata": {},
     "output_type": "execute_result"
    }
   ],
   "source": [
    "labfront_loader.get_full_id('sample-participant-01')"
   ]
  },
  {
   "cell_type": "code",
   "execution_count": 6,
   "metadata": {},
   "outputs": [
    {
     "data": {
      "text/plain": [
       "{'sample-participant-01': {'garmin-connect-daily-heart-rate': {'000000_garmin-connect-daily-heart-rate_sample-participant-01_6732ab82.csv': {'firstSampleUnixTimestampInMs': 1672719795000,\n",
       "    'lastSampleUnixTimestampInMs': 1675402140000}},\n",
       "  'garmin-connect-daily-summary': {'000000_garmin-connect-daily-summary_sample-participant-01_6732ab82.csv': {'firstSampleUnixTimestampInMs': 1672675200000,\n",
       "    'lastSampleUnixTimestampInMs': 1675440000000}},\n",
       "  'garmin-connect-epoch': {'000000_garmin-connect-epoch_sample-participant-01_6732ab82.csv': {'firstSampleUnixTimestampInMs': 1672739100000,\n",
       "    'lastSampleUnixTimestampInMs': 1675442700000}},\n",
       "  'garmin-connect-pulse-ox': {'000000_garmin-connect-pulse-ox_sample-participant-01_6732ab82.csv': {'firstSampleUnixTimestampInMs': 1672740900000,\n",
       "    'lastSampleUnixTimestampInMs': 1675248720000}},\n",
       "  'garmin-connect-respiration': {'000000_garmin-connect-respiration_sample-participant-01_6732ab82.csv': {'firstSampleUnixTimestampInMs': 1672740600000,\n",
       "    'lastSampleUnixTimestampInMs': 1675401960000}},\n",
       "  'garmin-connect-stress': {'000000_garmin-connect-stress_sample-participant-01_6732ab82.csv': {'firstSampleUnixTimestampInMs': 1672675200000,\n",
       "    'lastSampleUnixTimestampInMs': 1675443060000}},\n",
       "  'garmin-device-bbi': {'000000_garmin-device-bbi_sample-participant-01_6732ab82_garmin-device_1725e82d.csv': {'firstSampleUnixTimestampInMs': 1675166604000,\n",
       "    'lastSampleUnixTimestampInMs': 1675402023944}},\n",
       "  'garmin-device-heart-rate': {'000000_garmin-device-heart-rate_sample-participant-01_6732ab82_garmin-device_1725e82d.csv': {'firstSampleUnixTimestampInMs': 1675166614000,\n",
       "    'lastSampleUnixTimestampInMs': 1675641823000}},\n",
       "  'garmin-device-pulse-ox': {'000000_garmin-device-pulse-ox_sample-participant-01_6732ab82_garmin-device_1725e82d.csv': {'firstSampleUnixTimestampInMs': 1675166427000,\n",
       "    'lastSampleUnixTimestampInMs': 1675641824000}},\n",
       "  'garmin-device-respiration': {'000000_garmin-device-respiration_sample-participant-01_6732ab82_garmin-device_1725e82d.csv': {'firstSampleUnixTimestampInMs': 1675166427000,\n",
       "    'lastSampleUnixTimestampInMs': 1675641824000}},\n",
       "  'garmin-device-step': {'000000_garmin-device-step_sample-participant-01_6732ab82_garmin-device_1725e82d.csv': {'firstSampleUnixTimestampInMs': 1675166467000,\n",
       "    'lastSampleUnixTimestampInMs': 1675645200000}},\n",
       "  'garmin-device-stress': {'000000_garmin-device-stress_sample-participant-01_6732ab82_garmin-device_1725e82d.csv': {'firstSampleUnixTimestampInMs': 1675166427000,\n",
       "    'lastSampleUnixTimestampInMs': 1675641824000}},\n",
       "  'garmin-device-zero-crossing': {'000000_garmin-device-zero-crossing_sample-participant-01_6732ab82_garmin-device_1725e82d.csv': {'firstSampleUnixTimestampInMs': 1675166614000,\n",
       "    'lastSampleUnixTimestampInMs': 1675645265000}},\n",
       "  'todo': {'Complete-Garmin-Setu_8a5325fa-76ca-446f-a646-4e80aa3fb258': {'000000_todo_sample-participant-01_6732ab82_Complete-Garmin-Setu_8a5325fa.csv': {'firstSampleUnixTimestampInMs': 1675243833988,\n",
       "     'lastSampleUnixTimestampInMs': 1675243833988}},\n",
       "   'Opened-App_fe43f539-35f7-4f87-9ba1-7ac1a91632b9': {'000000_todo_sample-participant-01_6732ab82_Opened-App_fe43f539.csv': {'firstSampleUnixTimestampInMs': 1675166622800,\n",
       "     'lastSampleUnixTimestampInMs': 1675243432872}}}}}"
      ]
     },
     "execution_count": 6,
     "metadata": {},
     "output_type": "execute_result"
    }
   ],
   "source": [
    "labfront_loader.data_dictionary"
   ]
  },
  {
   "cell_type": "code",
   "execution_count": 7,
   "metadata": {},
   "outputs": [
    {
     "data": {
      "text/html": [
       "<div>\n",
       "<style scoped>\n",
       "    .dataframe tbody tr th:only-of-type {\n",
       "        vertical-align: middle;\n",
       "    }\n",
       "\n",
       "    .dataframe tbody tr th {\n",
       "        vertical-align: top;\n",
       "    }\n",
       "\n",
       "    .dataframe thead th {\n",
       "        text-align: right;\n",
       "    }\n",
       "</style>\n",
       "<table border=\"1\" class=\"dataframe\">\n",
       "  <thead>\n",
       "    <tr style=\"text-align: right;\">\n",
       "      <th></th>\n",
       "      <th>timezoneOffsetInMs</th>\n",
       "      <th>unixTimestampInMs</th>\n",
       "      <th>isoDate</th>\n",
       "      <th>breathsPerMinute</th>\n",
       "      <th>sleep</th>\n",
       "    </tr>\n",
       "  </thead>\n",
       "  <tbody>\n",
       "    <tr>\n",
       "      <th>0</th>\n",
       "      <td>28800000</td>\n",
       "      <td>1672740600000</td>\n",
       "      <td>2023-01-03 18:10:00</td>\n",
       "      <td>15.37</td>\n",
       "      <td>0</td>\n",
       "    </tr>\n",
       "    <tr>\n",
       "      <th>1</th>\n",
       "      <td>28800000</td>\n",
       "      <td>1672740660000</td>\n",
       "      <td>2023-01-03 18:11:00</td>\n",
       "      <td>14.44</td>\n",
       "      <td>0</td>\n",
       "    </tr>\n",
       "    <tr>\n",
       "      <th>2</th>\n",
       "      <td>28800000</td>\n",
       "      <td>1672740720000</td>\n",
       "      <td>2023-01-03 18:12:00</td>\n",
       "      <td>14.71</td>\n",
       "      <td>0</td>\n",
       "    </tr>\n",
       "    <tr>\n",
       "      <th>3</th>\n",
       "      <td>28800000</td>\n",
       "      <td>1672740780000</td>\n",
       "      <td>2023-01-03 18:13:00</td>\n",
       "      <td>15.12</td>\n",
       "      <td>0</td>\n",
       "    </tr>\n",
       "    <tr>\n",
       "      <th>4</th>\n",
       "      <td>28800000</td>\n",
       "      <td>1672740840000</td>\n",
       "      <td>2023-01-03 18:14:00</td>\n",
       "      <td>15.24</td>\n",
       "      <td>0</td>\n",
       "    </tr>\n",
       "    <tr>\n",
       "      <th>...</th>\n",
       "      <td>...</td>\n",
       "      <td>...</td>\n",
       "      <td>...</td>\n",
       "      <td>...</td>\n",
       "      <td>...</td>\n",
       "    </tr>\n",
       "    <tr>\n",
       "      <th>471</th>\n",
       "      <td>28800000</td>\n",
       "      <td>1675401660000</td>\n",
       "      <td>2023-02-03 13:21:00</td>\n",
       "      <td>13.49</td>\n",
       "      <td>0</td>\n",
       "    </tr>\n",
       "    <tr>\n",
       "      <th>472</th>\n",
       "      <td>28800000</td>\n",
       "      <td>1675401720000</td>\n",
       "      <td>2023-02-03 13:22:00</td>\n",
       "      <td>14.11</td>\n",
       "      <td>0</td>\n",
       "    </tr>\n",
       "    <tr>\n",
       "      <th>473</th>\n",
       "      <td>28800000</td>\n",
       "      <td>1675401780000</td>\n",
       "      <td>2023-02-03 13:23:00</td>\n",
       "      <td>14.27</td>\n",
       "      <td>0</td>\n",
       "    </tr>\n",
       "    <tr>\n",
       "      <th>474</th>\n",
       "      <td>28800000</td>\n",
       "      <td>1675401840000</td>\n",
       "      <td>2023-02-03 13:24:00</td>\n",
       "      <td>14.63</td>\n",
       "      <td>0</td>\n",
       "    </tr>\n",
       "    <tr>\n",
       "      <th>475</th>\n",
       "      <td>28800000</td>\n",
       "      <td>1675401960000</td>\n",
       "      <td>2023-02-03 13:26:00</td>\n",
       "      <td>14.17</td>\n",
       "      <td>0</td>\n",
       "    </tr>\n",
       "  </tbody>\n",
       "</table>\n",
       "<p>476 rows × 5 columns</p>\n",
       "</div>"
      ],
      "text/plain": [
       "     timezoneOffsetInMs  unixTimestampInMs             isoDate  \\\n",
       "0              28800000      1672740600000 2023-01-03 18:10:00   \n",
       "1              28800000      1672740660000 2023-01-03 18:11:00   \n",
       "2              28800000      1672740720000 2023-01-03 18:12:00   \n",
       "3              28800000      1672740780000 2023-01-03 18:13:00   \n",
       "4              28800000      1672740840000 2023-01-03 18:14:00   \n",
       "..                  ...                ...                 ...   \n",
       "471            28800000      1675401660000 2023-02-03 13:21:00   \n",
       "472            28800000      1675401720000 2023-02-03 13:22:00   \n",
       "473            28800000      1675401780000 2023-02-03 13:23:00   \n",
       "474            28800000      1675401840000 2023-02-03 13:24:00   \n",
       "475            28800000      1675401960000 2023-02-03 13:26:00   \n",
       "\n",
       "     breathsPerMinute  sleep  \n",
       "0               15.37      0  \n",
       "1               14.44      0  \n",
       "2               14.71      0  \n",
       "3               15.12      0  \n",
       "4               15.24      0  \n",
       "..                ...    ...  \n",
       "471             13.49      0  \n",
       "472             14.11      0  \n",
       "473             14.27      0  \n",
       "474             14.63      0  \n",
       "475             14.17      0  \n",
       "\n",
       "[476 rows x 5 columns]"
      ]
     },
     "execution_count": 7,
     "metadata": {},
     "output_type": "execute_result"
    }
   ],
   "source": [
    "labfront_loader.load_garmin_connect_respiration('sample-participant-01')"
   ]
  }
 ],
 "metadata": {
  "kernelspec": {
   "display_name": "dev",
   "language": "python",
   "name": "python3"
  },
  "language_info": {
   "codemirror_mode": {
    "name": "ipython",
    "version": 3
   },
   "file_extension": ".py",
   "mimetype": "text/x-python",
   "name": "python",
   "nbconvert_exporter": "python",
   "pygments_lexer": "ipython3",
   "version": "3.9.13"
  },
  "orig_nbformat": 4
 },
 "nbformat": 4,
 "nbformat_minor": 2
}
